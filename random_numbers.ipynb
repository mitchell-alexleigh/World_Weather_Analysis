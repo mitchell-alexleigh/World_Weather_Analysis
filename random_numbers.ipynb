{
 "cells": [
  {
   "cell_type": "code",
   "execution_count": 14,
   "id": "express-prisoner",
   "metadata": {},
   "outputs": [],
   "source": [
    "# Import the random module.\n",
    "import random\n",
    "# Import the NumPy module.\n",
    "import numpy as np\n",
    "# Import timeit.\n",
    "import timeit\n",
    "# Import Other Dependencies \n",
    "import pandas as pd\n",
    "import matplotlib.pyplot as plt\n"
   ]
  },
  {
   "cell_type": "code",
   "execution_count": 2,
   "id": "weekly-leader",
   "metadata": {},
   "outputs": [
    {
     "data": {
      "text/plain": [
       "-23"
      ]
     },
     "execution_count": 2,
     "metadata": {},
     "output_type": "execute_result"
    }
   ],
   "source": [
    "random.randint(-90, 90)\n"
   ]
  },
  {
   "cell_type": "code",
   "execution_count": 3,
   "id": "italian-buffer",
   "metadata": {},
   "outputs": [
    {
     "data": {
      "text/plain": [
       "0.7934321926537274"
      ]
     },
     "execution_count": 3,
     "metadata": {},
     "output_type": "execute_result"
    }
   ],
   "source": [
    "random.random()"
   ]
  },
  {
   "cell_type": "code",
   "execution_count": 4,
   "id": "raised-ethnic",
   "metadata": {},
   "outputs": [
    {
     "data": {
      "text/plain": [
       "-68.9117450679792"
      ]
     },
     "execution_count": 4,
     "metadata": {},
     "output_type": "execute_result"
    }
   ],
   "source": [
    "random_lat = random.randint(-90,89) + random.random()\n",
    "random_lat"
   ]
  },
  {
   "cell_type": "code",
   "execution_count": 5,
   "id": "instant-print",
   "metadata": {},
   "outputs": [],
   "source": [
    "x = 1\n",
    "latitudes = []\n",
    "while x < 11:\n",
    "    random_lat = random.randint(-90, 89) + random.random()\n",
    "    latitudes.append(random_lat)\n",
    "    x += 1"
   ]
  },
  {
   "cell_type": "code",
   "execution_count": 6,
   "id": "suburban-survey",
   "metadata": {},
   "outputs": [
    {
     "data": {
      "text/plain": [
       "[-80.50403264335543,\n",
       " -4.881015613602891,\n",
       " 40.16124338701584,\n",
       " -68.26326486063046,\n",
       " 81.81197670055775,\n",
       " -87.81183912828492,\n",
       " -0.8117107709910801,\n",
       " -71.10067057679063,\n",
       " 63.970174476687646,\n",
       " -10.671793611717964]"
      ]
     },
     "execution_count": 6,
     "metadata": {},
     "output_type": "execute_result"
    }
   ],
   "source": [
    "latitudes"
   ]
  },
  {
   "cell_type": "code",
   "execution_count": 7,
   "id": "killing-colon",
   "metadata": {},
   "outputs": [
    {
     "data": {
      "text/plain": [
       "-59.44165847328317"
      ]
     },
     "execution_count": 7,
     "metadata": {},
     "output_type": "execute_result"
    }
   ],
   "source": [
    "random_lon = random.randint(-180,179) + random.random()\n",
    "random_lon"
   ]
  },
  {
   "cell_type": "code",
   "execution_count": 8,
   "id": "broke-bachelor",
   "metadata": {},
   "outputs": [
    {
     "data": {
      "text/plain": [
       "-30"
      ]
     },
     "execution_count": 8,
     "metadata": {},
     "output_type": "execute_result"
    }
   ],
   "source": [
    "random.randrange(-90, 90, step=3)"
   ]
  },
  {
   "cell_type": "code",
   "execution_count": 9,
   "id": "spectacular-picnic",
   "metadata": {},
   "outputs": [
    {
     "data": {
      "text/plain": [
       "-88.11820408947841"
      ]
     },
     "execution_count": 9,
     "metadata": {},
     "output_type": "execute_result"
    }
   ],
   "source": [
    "random.uniform(-90, 90)"
   ]
  },
  {
   "cell_type": "code",
   "execution_count": 10,
   "id": "complimentary-coverage",
   "metadata": {},
   "outputs": [
    {
     "data": {
      "text/plain": [
       "-89.27846641976714"
      ]
     },
     "execution_count": 10,
     "metadata": {},
     "output_type": "execute_result"
    }
   ],
   "source": [
    "np.random.uniform(-90.000, 90.000)"
   ]
  },
  {
   "cell_type": "code",
   "execution_count": 11,
   "id": "ruled-layer",
   "metadata": {},
   "outputs": [
    {
     "data": {
      "text/plain": [
       "array([ 10.97052041, -48.82769651,  38.85030887,  20.71859759,\n",
       "       -79.89865185, -12.95609019, -57.61739243, -61.89669124,\n",
       "        89.91422847,  12.02890402,  74.1804499 , -16.9606082 ,\n",
       "        54.87332376, -83.01519369,  62.02192893,  53.61454027,\n",
       "       -14.54059627,  46.29024809,  39.47548685, -70.49603949,\n",
       "       -75.29801185,  52.3044948 ,  49.79423548, -46.06937159,\n",
       "       -59.25749471,  59.80356884,   9.78139683, -49.24581359,\n",
       "        83.98688888,  19.34261805, -50.72248315, -43.73410973,\n",
       "        36.422091  , -23.45424278,  73.36043978,  86.29475479,\n",
       "        29.16562903, -29.79362911,  89.20216358,  84.65405738,\n",
       "        48.96846907, -41.17483812,  -4.97630906, -67.65257317,\n",
       "        48.91432085,  53.10414599, -31.80114817,  69.17519098,\n",
       "        25.38872023,  55.22650398])"
      ]
     },
     "execution_count": 11,
     "metadata": {},
     "output_type": "execute_result"
    }
   ],
   "source": [
    "np.random.uniform(-90.000, 90.000, size=50)"
   ]
  },
  {
   "cell_type": "code",
   "execution_count": 12,
   "id": "suburban-basement",
   "metadata": {},
   "outputs": [
    {
     "name": "stdout",
     "output_type": "stream",
     "text": [
      "11.5 µs ± 357 ns per loop (mean ± std. dev. of 7 runs, 100000 loops each)\n"
     ]
    }
   ],
   "source": [
    "%timeit np.random.uniform(-90.000, 90.000, size=1500)"
   ]
  },
  {
   "cell_type": "code",
   "execution_count": 13,
   "id": "disabled-iceland",
   "metadata": {},
   "outputs": [
    {
     "name": "stdout",
     "output_type": "stream",
     "text": [
      "1.08 ms ± 4 µs per loop (mean ± std. dev. of 7 runs, 1000 loops each)\n"
     ]
    }
   ],
   "source": [
    "def latitudes(size):\n",
    "    latitudes = []\n",
    "    x = 0\n",
    "    while x < (size):\n",
    "        random_lat = random.randint(-90, 90) + random.random()\n",
    "        latitudes.append(random_lat)\n",
    "        x += 1\n",
    "    return latitudes\n",
    "# Call the function with 1500.\n",
    "%timeit latitudes(1500)"
   ]
  },
  {
   "cell_type": "code",
   "execution_count": 15,
   "id": "heard-stand",
   "metadata": {},
   "outputs": [
    {
     "data": {
      "text/plain": [
       "<zip at 0x7f9804c70d80>"
      ]
     },
     "execution_count": 15,
     "metadata": {},
     "output_type": "execute_result"
    }
   ],
   "source": []
  },
  {
   "cell_type": "code",
   "execution_count": null,
   "id": "american-behalf",
   "metadata": {},
   "outputs": [],
   "source": []
  }
 ],
 "metadata": {
  "kernelspec": {
   "display_name": "PythonData",
   "language": "python",
   "name": "pythondata"
  },
  "language_info": {
   "codemirror_mode": {
    "name": "ipython",
    "version": 3
   },
   "file_extension": ".py",
   "mimetype": "text/x-python",
   "name": "python",
   "nbconvert_exporter": "python",
   "pygments_lexer": "ipython3",
   "version": "3.8.5"
  }
 },
 "nbformat": 4,
 "nbformat_minor": 5
}
